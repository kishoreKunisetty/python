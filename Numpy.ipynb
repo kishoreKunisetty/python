{
 "cells": [
  {
   "cell_type": "markdown",
   "metadata": {},
   "source": [
    "## Importing package"
   ]
  },
  {
   "cell_type": "code",
   "execution_count": 2,
   "metadata": {},
   "outputs": [],
   "source": [
    "import numpy as np"
   ]
  },
  {
   "cell_type": "markdown",
   "metadata": {},
   "source": [
    "## Creating Arrays"
   ]
  },
  {
   "cell_type": "code",
   "execution_count": 3,
   "metadata": {},
   "outputs": [
    {
     "name": "stdout",
     "output_type": "stream",
     "text": [
      "1D array:  [1 2 3 4 5 6]\n",
      "2D array:  \n",
      " [[1 2 3]\n",
      " [4 5 6]\n",
      " [7 8 9]]\n"
     ]
    }
   ],
   "source": [
    "arr1 = np.array([1,2,3,4,5,6])\n",
    "print(\"1D array: \", arr1)\n",
    "arr2 = np.array([[1,2,3],[4,5,6],[7,8,9]])\n",
    "print(\"2D array: \", \"\\n\",arr2)"
   ]
  },
  {
   "cell_type": "markdown",
   "metadata": {},
   "source": [
    "## Understanding attributes of arrays"
   ]
  },
  {
   "cell_type": "code",
   "execution_count": 4,
   "metadata": {},
   "outputs": [
    {
     "name": "stdout",
     "output_type": "stream",
     "text": [
      "About arr2:\n",
      "Type\t\t: <class 'numpy.ndarray'>\n",
      "Datatype\t: int64\n",
      "Shape\t\t: (3, 3)\n",
      "Size\t\t: 9\n",
      "itemsize\t: 8\n",
      "No. of dim\t: 2\n",
      "No. of bytes\t: 72\n"
     ]
    }
   ],
   "source": [
    "print(\"About arr2:\")\n",
    "print(\"Type\\t\\t:\" ,type(arr2))\n",
    "print(\"Datatype\\t:\",arr2.dtype)\n",
    "print(\"Shape\\t\\t:\", arr2.shape)\n",
    "print(\"Size\\t\\t:\",arr2.size)\n",
    "print(\"itemsize\\t:\",arr2.itemsize)\n",
    "print(\"No. of dim\\t:\",arr2.ndim)\n",
    "print(\"No. of bytes\\t:\", arr2.nbytes)"
   ]
  },
  {
   "cell_type": "markdown",
   "metadata": {},
   "source": [
    "## Creating Special arrays"
   ]
  },
  {
   "cell_type": "code",
   "execution_count": 5,
   "metadata": {},
   "outputs": [
    {
     "name": "stdout",
     "output_type": "stream",
     "text": [
      "Zero Array \t:\n",
      " [[0 0]\n",
      " [0 0]\n",
      " [0 0]\n",
      " [0 0]\n",
      " [0 0]]\n",
      "Arrays with unit values\t:\n",
      " [[1. 1. 1. 1.]\n",
      " [1. 1. 1. 1.]\n",
      " [1. 1. 1. 1.]]\n",
      "Identity matrix\t:\n",
      " [[1. 0. 0.]\n",
      " [0. 1. 0.]\n",
      " [0. 0. 1.]\n",
      " [0. 0. 0.]]\n",
      "Random array\t\n",
      " [[0.57662832 0.13295862]\n",
      " [0.80039028 0.21484504]\n",
      " [0.36590037 0.97644292]]\n",
      "Random integer array\t:\n",
      " [[0 6 5 5 1 0]\n",
      " [3 0 4 4 1 3]]\n"
     ]
    }
   ],
   "source": [
    "arr3 = np.zeros((5,2), dtype=int)\n",
    "arr4 = np.ones((3,4),dtype=float)\n",
    "arr5 = np.eye(4,3)\n",
    "arr6 = np.random.rand(3,2)\n",
    "arr7 = np.random.randint(7,size=(2,6))\n",
    "print(\"Zero Array \\t:\\n\",arr3)\n",
    "print(\"Arrays with unit values\\t:\\n\",arr4)\n",
    "print(\"Identity matrix\\t:\\n\",arr5)\n",
    "print(\"Random array\\t\\n\",arr6)\n",
    "print(\"Random integer array\\t:\\n\" , arr7)"
   ]
  },
  {
   "cell_type": "markdown",
   "metadata": {},
   "source": [
    "<h2>Creating arrays using arange</h2>"
   ]
  },
  {
   "cell_type": "code",
   "execution_count": 9,
   "metadata": {},
   "outputs": [
    {
     "name": "stdout",
     "output_type": "stream",
     "text": [
      "Array created with arange: \t\n",
      " [1 3 5 7 9]\n",
      "Array createed with arange:\n",
      " [1 2 3 4 5 6 7 8 9]\n",
      "range print\n",
      " [0 1 2 3 4 5 6 7 8 9]\n"
     ]
    }
   ],
   "source": [
    "arr8 = np.arange(1,10,2)\n",
    "print(\"Array created with arange: \\t\\n\",arr8)\n",
    "arr8 = np.arange(1,10)\n",
    "print(\"Array createed with arange:\\n\",arr8)\n",
    "arr8=np.arange(10)\n",
    "print(\"range print\\n\",arr8)"
   ]
  },
  {
   "cell_type": "markdown",
   "metadata": {},
   "source": [
    "## Creating arrays using \"linspace\"\n",
    "linspace creates an array within the range.\n",
    "    Number of elements to be created is fixed and the interval between the elements is calculated by the system.\n",
    "    linspace will include the last value(stop)"
   ]
  },
  {
   "cell_type": "code",
   "execution_count": 10,
   "metadata": {},
   "outputs": [
    {
     "name": "stdout",
     "output_type": "stream",
     "text": [
      "Array created using linspace requesting 50 elements within 1 to 10:\t\n",
      " [1.         1.08163265 1.16326531 1.24489796 1.32653061 1.40816327\n",
      " 1.48979592 1.57142857 1.65306122 1.73469388 1.81632653 1.89795918\n",
      " 1.97959184 2.06122449 2.14285714 2.2244898  2.30612245 2.3877551\n",
      " 2.46938776 2.55102041 2.63265306 2.71428571 2.79591837 2.87755102\n",
      " 2.95918367 3.04081633 3.12244898 3.20408163 3.28571429 3.36734694\n",
      " 3.44897959 3.53061224 3.6122449  3.69387755 3.7755102  3.85714286\n",
      " 3.93877551 4.02040816 4.10204082 4.18367347 4.26530612 4.34693878\n",
      " 4.42857143 4.51020408 4.59183673 4.67346939 4.75510204 4.83673469\n",
      " 4.91836735 5.        ]\n"
     ]
    }
   ],
   "source": [
    "arr9 = np.linspace(1,5,50)\n",
    "print(\"Array created using linspace requesting 50 elements within 1 to 10:\\t\\n\",arr9)"
   ]
  },
  {
   "cell_type": "code",
   "execution_count": 11,
   "metadata": {},
   "outputs": [
    {
     "name": "stdout",
     "output_type": "stream",
     "text": [
      "[[ 1  2  3  4  5]\n",
      " [ 6  7  8  9 10]\n",
      " [11 12 13 14 15]\n",
      " [16 17 18 19 20]]\n",
      "Row 2: [ 6  7  8  9 10]\n",
      "Column 2: [ 4  9 14 19]\n",
      "Elements 7,8,12,13 :\n",
      " [[ 7  8]\n",
      " [12 13]]\n",
      "All elements: \n",
      " [[ 1  2  3  4  5]\n",
      " [ 6  7  8  9 10]\n",
      " [11 12 13 14 15]\n",
      " [16 17 18 19 20]]\n",
      "Strides:\n",
      " [[ 2  3]\n",
      " [12 13]]\n"
     ]
    }
   ],
   "source": [
    "arr10 = np.array([[1,2,3,4,5],[6,7,8,9,10],[11,12,13,14,15],[16,17,18,19,20]])\n",
    "print(arr10)\n",
    "print(\"Row 2:\",arr10[1,:])\n",
    "print(\"Column 2:\",arr10[:,3])\n",
    "print(\"Elements 7,8,12,13 :\\n\", arr10[1:3,1:3])\n",
    "print(\"All elements: \\n\",arr10[::])\n",
    "print(\"Strides:\\n\",arr10[0::2,1:3])"
   ]
  },
  {
   "cell_type": "markdown",
   "metadata": {},
   "source": [
    "## Masking - Important concept in Image processing"
   ]
  },
  {
   "cell_type": "code",
   "execution_count": 12,
   "metadata": {},
   "outputs": [
    {
     "name": "stdout",
     "output_type": "stream",
     "text": [
      "[2 3 5 7]\n"
     ]
    }
   ],
   "source": [
    "arr11 = np.array([1,2,3,4,5,6,7,8,9])\n",
    "mask = np.array([0,1,1,0,1,0,1,0,0],dtype=bool)\n",
    "print(arr11[mask])"
   ]
  },
  {
   "cell_type": "code",
   "execution_count": 14,
   "metadata": {},
   "outputs": [
    {
     "name": "stdout",
     "output_type": "stream",
     "text": [
      "[3 4]\n"
     ]
    }
   ],
   "source": [
    "maskarray=np.array([0,0,1,1,0])\n",
    "mask=np.array(maskarray,dtype=bool)\n",
    "array=np.array([1,2,3,4,5])\n",
    "print(array[mask])"
   ]
  },
  {
   "cell_type": "code",
   "execution_count": 28,
   "metadata": {},
   "outputs": [
    {
     "name": "stdout",
     "output_type": "stream",
     "text": [
      "[[1 2 3 4 5]\n",
      " [6 7 8 9 9]]\n",
      "Sum  \t\t: 54\n",
      "Sum_with_axis \t: [ 7  9 11 13 14]\n",
      "Prod \t\t: 3265920\n",
      "Prod_with_axis  : [ 6 14 24 36 45]\n",
      "Minimum  \t: [1 2 3 4 5]\n",
      "Maximum  \t: [6 7 8 9 9]\n",
      "Minimum_with_axis: [1 6]\n",
      "Maximum_with_axis: [5 9]\n",
      "Mean  \t\t: [3.5 4.5 5.5 6.5 7. ]\n",
      "mean_horizontal: [3.  7.8]\n",
      "Variance \t: [6.25 6.25 6.25 6.25 4.  ]\n",
      "Variance_horizontal: [2.   1.36]\n",
      "Standard Deviation: [2.5 2.5 2.5 2.5 2. ]\n",
      "Average  \t: [3.5 4.5 5.5 6.5 7. ]\n",
      "Weighted Average : [3.66666667 8.33333333]\n"
     ]
    }
   ],
   "source": [
    "arr12 = np.array([[1,2,3,4,5],[6,7,8,9,9]])\n",
    "print(arr12)\n",
    "print(\"Sum  \\t\\t:\",np.sum(arr12))\n",
    "print(\"Sum_with_axis \\t:\",np.sum(arr12,axis=0))\n",
    "print(\"Prod \\t\\t:\",np.prod(arr12))\n",
    "print(\"Prod_with_axis  :\",np.prod(arr12,axis=0))\n",
    "print(\"Minimum  \\t:\",np.min(arr12,axis=0))\n",
    "print(\"Maximum  \\t:\",np.max(arr12,axis=0))\n",
    "print(\"Minimum_with_axis:\",np.min(arr12,axis=1))\n",
    "print(\"Maximum_with_axis:\",np.max(arr12,axis=1))\n",
    "print(\"Mean  \\t\\t:\",np.mean(arr12,axis=0))\n",
    "print(\"mean_horizontal:\",np.mean(arr12,axis=1))\n",
    "print(\"Variance \\t:\",np.var(arr12,axis=0))\n",
    "print(\"Variance_horizontal:\",np.var(arr12,axis=1))\n",
    "print(\"Standard Deviation:\",np.std(arr12,axis=0))\n",
    "print(\"Average  \\t:\",np.average(arr12,axis=0))\n",
    "print(\"Weighted Average :\",np.average(arr12,weights=[1,2,3,4,5],axis=1))"
   ]
  },
  {
   "cell_type": "markdown",
   "metadata": {},
   "source": [
    "## Scalar Operations - Arithmetic"
   ]
  },
  {
   "cell_type": "code",
   "execution_count": 29,
   "metadata": {},
   "outputs": [
    {
     "name": "stdout",
     "output_type": "stream",
     "text": [
      "Summation:\t [5 7 9]\n",
      "Difference:\t [-3 -3 -3]\n",
      "Previous output after adding 5: [2 2 2]\n"
     ]
    }
   ],
   "source": [
    "arr13 = np.array([1,2,3])\n",
    "arr14 = np.array([4,5,6])\n",
    "arr15 = arr13+arr14\n",
    "arr16 = arr13 - arr14\n",
    "print(\"Summation:\\t\",arr15)\n",
    "print(\"Difference:\\t\",arr16)\n",
    "\n",
    "arr16+=5\n",
    "print(\"Previous output after adding 5:\",arr16)\n",
    "\n",
    "###  Try other operations\n",
    "\n"
   ]
  },
  {
   "cell_type": "markdown",
   "metadata": {},
   "source": [
    "## Relational Operations"
   ]
  },
  {
   "cell_type": "code",
   "execution_count": 31,
   "metadata": {},
   "outputs": [
    {
     "name": "stdout",
     "output_type": "stream",
     "text": [
      "[False False False]\n",
      "it is checking elementwise.\n"
     ]
    }
   ],
   "source": [
    "result1 = arr16 == arr15\n",
    "print(result1)\n",
    "print(\"it is checking elementwise.\")"
   ]
  },
  {
   "cell_type": "markdown",
   "metadata": {},
   "source": [
    "<h2>## Trignometric & Logarithmic operations</h2>"
   ]
  },
  {
   "cell_type": "code",
   "execution_count": 32,
   "metadata": {},
   "outputs": [
    {
     "name": "stdout",
     "output_type": "stream",
     "text": [
      "Sin values:\t [ 0.65028784 -0.98803162  0.85090352  0.89399666]\n",
      "Log value:\t [2.7080502  3.40119738 3.80666249 4.49980967]\n"
     ]
    }
   ],
   "source": [
    "arr17 = np.array([15,30,45,90])\n",
    "result7 = np.sin(arr17)\n",
    "print(\"Sin values:\\t\",result7)\n",
    "result8 = np.log(arr17)\n",
    "print(\"Log value:\\t\",result8)\n",
    "\n",
    "### Try other operations"
   ]
  },
  {
   "cell_type": "markdown",
   "metadata": {},
   "source": [
    "## Vector operations"
   ]
  },
  {
   "cell_type": "markdown",
   "metadata": {},
   "source": [
    "### Math - Scalar and Vector\n",
    "\n",
    "#### Scalar\n",
    "\n",
    "* np.add(a,1) -> Add 1 to each array element\n",
    "* np.subtract(a,2) -> Subtract 2 from each array element\n",
    "* np.multiply(a,3) -> Multiply each array element by 3\n",
    "* np.divide(a,4) -> Divide each array element by 4 (it returns np.nan for division by zero)\n",
    "* np.power(a,5) -> Raise each array element to the 5th power\n",
    "\n",
    "#### Vector Math\n",
    "\n",
    "* np.add(a1,a2) -> Elementwise add a2 to a1\n",
    "* np.subtract(a1,a2) -> Elementwise subtract a2 from a1\n",
    "* np.multiply(a1,a2) -> Elementwise multiply a1 by a2\n",
    "* np.divide(a1,a2) -> Elementwise divide a1 by a2\n",
    "* np.power(a1,a2) -> Elementwise raise a1 raised to the power of a2\n",
    "\n",
    "* np.array_equal(a1,a2) -> Returns True if the arrays have the same elements and shape *(Note - a1 == a2 -> Returns True if the arrays have the same elements)*\n",
    "* np.sqrt(a) -> Square root of each element in the array\n",
    "* np.round(a) -> Rounds to the nearest int"
   ]
  },
  {
   "cell_type": "code",
   "execution_count": 42,
   "metadata": {},
   "outputs": [
    {
     "name": "stdout",
     "output_type": "stream",
     "text": [
      "scalar math\n",
      "array is: [0 1 2 3 4]\n",
      "add\t: [1 2 3 4 5]\n",
      "subtract : [-2 -1  0  1  2]\n",
      "multiply : [ 0  3  6  9 12]\n",
      "divide\t: [0.   0.25 0.5  0.75 1.  ]\n",
      "power\t: [   0    1   32  243 1024]\n",
      "\n",
      "Vector math\n",
      "arrays are: [0 1 2 3 4] [1 3 5 7 9]\n",
      "add\t: [ 1  4  7 10 13]\n",
      "subtract : [-1 -2 -3 -4 -5]\n",
      "multiply : [ 0  3 10 21 36]\n",
      "divide \t: [0.         0.33333333 0.4        0.42857143 0.44444444]\n"
     ]
    }
   ],
   "source": [
    "print(\"scalar math\")\n",
    "a=np.arange(5)\n",
    "print(\"array is:\",a)\n",
    "print(\"add\\t:\",np.add(a,1))\n",
    "print(\"subtract :\",np.subtract(a,2))\n",
    "print(\"multiply :\",np.multiply(a,3))\n",
    "print(\"divide\\t:\",np.divide(a,4))\n",
    "print(\"power\\t:\",np.power(a,5))\n",
    "print(\"\\nVector math\")\n",
    "b=np.arange(1,10,2)\n",
    "print(\"arrays are:\",a,b)\n",
    "print(\"add\\t:\",np.add(a,b))\n",
    "print(\"subtract :\",np.subtract(a,b))\n",
    "print(\"multiply :\",np.multiply(a,b))\n",
    "print(\"divide \\t:\",np.divide(a,b))"
   ]
  },
  {
   "cell_type": "markdown",
   "metadata": {},
   "source": [
    "### Statistical Analysis\n",
    "\n",
    "* np.mean(a) -> Returns mean along specific axis\n",
    "* np.sum(a) -> Returns sum of all values in a\n",
    "* a.min() -> Returns minimum value of a\n",
    "* a.max() -> Returns maximum value of specific axis\n",
    "* np.var(a)\n",
    "* np.std(a)\n",
    "* arr.corrcoef()"
   ]
  },
  {
   "cell_type": "code",
   "execution_count": 44,
   "metadata": {},
   "outputs": [
    {
     "name": "stdout",
     "output_type": "stream",
     "text": [
      "mean of a 2.0\n",
      "sum of a : 10\n",
      "min of a : 0\n",
      "max of a : 4\n",
      "variance of a : 2.0\n",
      "standard_diviation of a: 1.4142135623730951\n",
      "correlation coef: 1.0\n"
     ]
    }
   ],
   "source": [
    "print(\"mean of a\",np.mean(a))\n",
    "print(\"sum of a :\",np.sum(a))\n",
    "print(\"min of a :\",np.min(a))\n",
    "print(\"max of a :\",np.max(a))\n",
    "print(\"variance of a :\",np.var(a))\n",
    "print(\"standard_diviation of a:\",np.std(a))\n",
    "print(\"correlation coef:\",np.corrcoef(a))"
   ]
  },
  {
   "cell_type": "markdown",
   "metadata": {},
   "source": [
    "1. sum_value = np.sum(a)\n",
    "2. columnSum = np.sum(a, axis = 0)\n",
    "3. rowSum = np.sum(a, axis = 1)"
   ]
  },
  {
   "cell_type": "code",
   "execution_count": 51,
   "metadata": {},
   "outputs": [
    {
     "name": "stdout",
     "output_type": "stream",
     "text": [
      "[0 1 2 3 4]\n",
      "[array([0, 1, 2, 3, 4]), array([1, 3, 5, 7, 9])]\n",
      "sum_value\t: 35 \n",
      "column_sum\t: [ 1  4  7 10 13]\n",
      "row_sum\t: [10 25]\n"
     ]
    }
   ],
   "source": [
    "print(a)\n",
    "c=[a,b]\n",
    "print(c)\n",
    "sum_value=np.sum(c)\n",
    "column_sum=np.sum(c,axis=0)\n",
    "row_sum=np.sum(c,axis=1)\n",
    "print(\"sum_value\\t:\",sum_value,\"\\ncolumn_sum\\t:\",column_sum)\n",
    "print(\"row_sum\\t:\",row_sum)"
   ]
  }
 ],
 "metadata": {
  "kernelspec": {
   "display_name": "Python 3",
   "language": "python",
   "name": "python3"
  },
  "language_info": {
   "codemirror_mode": {
    "name": "ipython",
    "version": 3
   },
   "file_extension": ".py",
   "mimetype": "text/x-python",
   "name": "python",
   "nbconvert_exporter": "python",
   "pygments_lexer": "ipython3",
   "version": "3.7.7"
  }
 },
 "nbformat": 4,
 "nbformat_minor": 2
}
